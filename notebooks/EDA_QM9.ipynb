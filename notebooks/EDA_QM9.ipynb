{
 "cells": [
  {
   "cell_type": "code",
   "execution_count": 1,
   "id": "fcb94dbb",
   "metadata": {},
   "outputs": [],
   "source": [
    "from rdkit import Chem \n",
    "from rdkit.Chem import PandasTools\n",
    "import matplotlib.pyplot as plt\n",
    "import numpy as np\n",
    "from data_ import Dataset_\n",
    "from utils_ import loss_"
   ]
  },
  {
   "cell_type": "markdown",
   "id": "bed671c9",
   "metadata": {},
   "source": [
    "# QM9 dataset "
   ]
  },
  {
   "cell_type": "code",
   "execution_count": 2,
   "id": "8e9c7c7a",
   "metadata": {},
   "outputs": [],
   "source": [
    "sdf_file = r'C:\\Users\\zcemg08\\Documents\\GitHub\\Mol_gan\\data\\gdb9_clean.sdf'\n",
    "df_qm9   = PandasTools.LoadSDF(sdf_file,smilesName='SMILES',molColName='Molecule',\\\n",
    "                               includeFingerprints=False)"
   ]
  },
  {
   "cell_type": "code",
   "execution_count": 3,
   "id": "a123a702",
   "metadata": {},
   "outputs": [],
   "source": [
    "df_qm9['SMILES'].to_csv(r'C:\\Users\\zcemg08\\PycharmProjects\\LSTM\\data\\qm9_smiles.txt',\n",
    "                          header=None, index=None, sep=' ', mode='a')"
   ]
  },
  {
   "cell_type": "code",
   "execution_count": 4,
   "id": "62c34326",
   "metadata": {},
   "outputs": [
    {
     "name": "stdout",
     "output_type": "stream",
     "text": [
      "dataset length = 88641\n"
     ]
    }
   ],
   "source": [
    "print('dataset length = {}'.format(len(df_qm9)))"
   ]
  },
  {
   "cell_type": "code",
   "execution_count": 5,
   "id": "eeeabf7e",
   "metadata": {},
   "outputs": [
    {
     "name": "stdout",
     "output_type": "stream",
     "text": [
      "maximum string length = 30\n"
     ]
    }
   ],
   "source": [
    "df_qm9['l'] = df_qm9['SMILES'].apply(lambda x: len(x))\n",
    "\n",
    "print('maximum string length = {}'.format(max(df_qm9['l'].values)))"
   ]
  },
  {
   "cell_type": "code",
   "execution_count": 6,
   "id": "1c4c1876",
   "metadata": {},
   "outputs": [
    {
     "data": {
      "text/html": [
       "<table border=\"1\" class=\"dataframe\">\n",
       "  <thead>\n",
       "    <tr style=\"text-align: right;\">\n",
       "      <th></th>\n",
       "      <th>ID</th>\n",
       "      <th>Molecule</th>\n",
       "      <th>SMILES</th>\n",
       "      <th>l</th>\n",
       "    </tr>\n",
       "  </thead>\n",
       "  <tbody>\n",
       "    <tr>\n",
       "      <th>18223</th>\n",
       "      <td>gdb_24186</td>\n",
       "      <td><img src=\"data:image/png;base64,iVBORw0KGgoAAAANSUhEUgAAAMgAAADICAIAAAAiOjnJAAAESklEQVR4nO3d23KbShRFUUid//9l8kAdFQEJdFs06j3GS2JZjlXlmd3QRtI4TdMA3/an9QOgT8IiQlhECIsIYREhLCKERYSwiBAWEcIiQlhECIsIYREhLCKERYSwiBAWEcIiQlhECIsIYREhLCKERYSwiBAWEcIiQlhECIsIYREhLCKERYSwiBAWEcIiQlhECIsIYREhLCKERYSwiBAWEcIiQlhECIsIYREhLCKERYSwiBAWEcIiQlhECIsIYREhLCKERYSwiBAWEcIiQlhECOsSxoXljdu7nfu43vdf6wfAMI7jNE2PPvxRJlZj24w6qGoQFiGWwkv7oYOqFWFd2mpZvHW2Cu6Cq6ewftIFS1pxjNXYNE2r8fO7y9+SidXA6kxw1db1p9Ezetgy+S19bFMdshSeqkhVg6XwNPNiV6SqwcQ6xzyo9qvq45j9RlhxdZa/JWFl1axqcIyV0N/ewRuE9ZG7B0a3mDo7bHqJsF6wDaXsQDokrPv2RxGHhKWhiHJhXXY5m39jeJEH87kSYTlNO1+JsIYWPfU0ft5gg5QIYREhLCKE1UCFHXlhna3IQb2wrqKz4EqEtX0mTCud1bOjRFjX119wwjpPf/XsEFZ7XQYnrJN0Wc8OYUU8n1GvwQnrDL3Ws6NOWFf8uXYcXJ2wmum4nh3Caqbv4ISV1Xc9O4TVRvfBCSuo+3p2CKuBCsFVCWuahpOvb3hUT4WqhjphcTJhpVQeV4OwEi5yUWFbwoooPq4GYREirC97tA6WGleDsAgpFNYJ86L43tVSobDO4ZRwVuVljEJu7x84/7F8Wdu7f69DWG+ak/o/mHLdHKr4n+lD/ya1c7exs1d/fImJ9bKSnbzMwXtK5XE1mFgh1d5Ebqv/ibU9/b/dsvOpz77j8ZvIda//sIYv5fL096q7/C2VWArny0fTP27L31KJsN72fI7jKKl/VAnr0dD6fJV8clurmiphDQ/aWn24Pa7f7+aEFfZHFQrrJXMu+92oaketsL71JDDL36HOtxvuvYncC19+987zoFLVvs43XewqtdLzxFJVQz2H5TKphroNyylbW92Gpaq2ug2LtoRFRCdhjQvLG7d329yy/aeOP8WhHnbeV9sKr+4yOMxP+PmwthkdVnVvFK1uEtqnfj6sN9zCG8dx7nAZp/XuKzoP68knvOeu1iqr87BWy+Kts9Ux/vzUh+ev1uJQJ2eFr1o+i8bvExN+PqztG4m//Xov579kd8d6WApXbT0/gaZpWpWkrW9xYQkRP78Uck3CIkJYRAiLCGERISwihEWEsIgQFhHCIkJYRAiLCGERISwihEWEsIgQFhHCIkJYRAiLCGERISwihEWEsIgQFhHCIkJYRAiLCGERISwihEWEsIgQFhHCIkJYRAiLCGERISwihEWEsIgQFhHCIkJYRAiLCGERISwihEWEsIgQFhHCIkJYRAiLCGERISwihEXEX1i6XuHWZfUSAAAAAElFTkSuQmCC\" alt=\"Mol\"/></td>\n",
       "      <td>C1=C2N[CH+][NH+]3CC([CH-]1)C23</td>\n",
       "      <td>30</td>\n",
       "    </tr>\n",
       "  </tbody>\n",
       "</table>"
      ],
      "text/plain": [
       "              ID                                                                                                                                                                                                                                                                                                                                                                                                                                                                                                                                                                                                                                                                                                                                                                                                                                                                                                                                                                                                                                                                                                                                                                                                                                                                                                                                                                                                                                                                                                                                                                                                                                           Molecule                          SMILES   l\n",
       "18223  gdb_24186  <img src=\"data:image/png;base64,iVBORw0KGgoAAAANSUhEUgAAAMgAAADICAIAAAAiOjnJAAAESklEQVR4nO3d23KbShRFUUid//9l8kAdFQEJdFs06j3GS2JZjlXlmd3QRtI4TdMA3/an9QOgT8IiQlhECIsIYREhLCKERYSwiBAWEcIiQlhECIsIYREhLCKERYSwiBAWEcIiQlhECIsIYREhLCKERYSwiBAWEcIiQlhECIsIYREhLCKERYSwiBAWEcIiQlhECIsIYREhLCKERYSwiBAWEcIiQlhECIsIYREhLCKERYSwiBAWEcIiQlhECIsIYREhLCKERYSwiBAWEcIiQlhECOsSxoXljdu7nfu43vdf6wfAMI7jNE2PPvxRJlZj24w6qGoQFiGWwkv7oYOqFWFd2mpZvHW2Cu6Cq6ewftIFS1pxjNXYNE2r8fO7y9+SidXA6kxw1db1p9Ezetgy+S19bFMdshSeqkhVg6XwNPNiV6SqwcQ6xzyo9qvq45j9RlhxdZa/JWFl1axqcIyV0N/ewRuE9ZG7B0a3mDo7bHqJsF6wDaXsQDokrPv2RxGHhKWhiHJhXXY5m39jeJEH87kSYTlNO1+JsIYWPfU0ft5gg5QIYREhLCKE1UCFHXlhna3IQb2wrqKz4EqEtX0mTCud1bOjRFjX119wwjpPf/XsEFZ7XQYnrJN0Wc8OYUU8n1GvwQnrDL3Ws6NOWFf8uXYcXJ2wmum4nh3Caqbv4ISV1Xc9O4TVRvfBCSuo+3p2CKuBCsFVCWuahpOvb3hUT4WqhjphcTJhpVQeV4OwEi5yUWFbwoooPq4GYREirC97tA6WGleDsAgpFNYJ86L43tVSobDO4ZRwVuVljEJu7x84/7F8Wdu7f69DWG+ak/o/mHLdHKr4n+lD/ya1c7exs1d/fImJ9bKSnbzMwXtK5XE1mFgh1d5Ebqv/ibU9/b/dsvOpz77j8ZvIda//sIYv5fL096q7/C2VWArny0fTP27L31KJsN72fI7jKKl/VAnr0dD6fJV8clurmiphDQ/aWn24Pa7f7+aEFfZHFQrrJXMu+92oaketsL71JDDL36HOtxvuvYncC19+987zoFLVvs43XewqtdLzxFJVQz2H5TKphroNyylbW92Gpaq2ug2LtoRFRCdhjQvLG7d329yy/aeOP8WhHnbeV9sKr+4yOMxP+PmwthkdVnVvFK1uEtqnfj6sN9zCG8dx7nAZp/XuKzoP68knvOeu1iqr87BWy+Kts9Ux/vzUh+ev1uJQJ2eFr1o+i8bvExN+PqztG4m//Xov579kd8d6WApXbT0/gaZpWpWkrW9xYQkRP78Uck3CIkJYRAiLCGERISwihEWEsIgQFhHCIkJYRAiLCGERISwihEWEsIgQFhHCIkJYRAiLCGERISwihEWEsIgQFhHCIkJYRAiLCGERISwihEWEsIgQFhHCIkJYRAiLCGERISwihEWEsIgQFhHCIkJYRAiLCGERISwihEWEsIgQFhHCIkJYRAiLCGERISwihEXEX1i6XuHWZfUSAAAAAElFTkSuQmCC\" alt=\"Mol\"/>  C1=C2N[CH+][NH+]3CC([CH-]1)C23  30"
      ]
     },
     "execution_count": 6,
     "metadata": {},
     "output_type": "execute_result"
    }
   ],
   "source": [
    "# Print molecule with maximum string length \n",
    "df_qm9.loc[df_qm9['l']==max(df_qm9['l'].values)]"
   ]
  },
  {
   "cell_type": "code",
   "execution_count": 7,
   "id": "82fdd2b7",
   "metadata": {},
   "outputs": [
    {
     "data": {
      "text/html": [
       "<table border=\"1\" class=\"dataframe\">\n",
       "  <thead>\n",
       "    <tr style=\"text-align: right;\">\n",
       "      <th></th>\n",
       "      <th>ID</th>\n",
       "      <th>Molecule</th>\n",
       "      <th>SMILES</th>\n",
       "      <th>l</th>\n",
       "    </tr>\n",
       "  </thead>\n",
       "  <tbody>\n",
       "    <tr>\n",
       "      <th>3</th>\n",
       "      <td>gdb_7</td>\n",
       "      <td><img src=\"data:image/png;base64,iVBORw0KGgoAAAANSUhEUgAAAMgAAADICAIAAAAiOjnJAAACKElEQVR4nO3awQkDMRAEwdPln/M6BRncCJmqCObRz1kz88CvvacH8J+ERUJYJIRFQlgkhEVCWCSERUJYJIRFQlgkhEVCWCSERUJYJIRFQlgkhEVCWCSERUJYJIRFQlgkhEVCWCSERUJYJIRFQlgkhEVCWCSERUJYJIRFQlgkhEVCWCSERUJYJIRFQlgkhEVCWCSERUJYJIRFQlgkhEVCWCSERUJYJIRFQlgkhEVCWCSERUJYJIRFQlgkhEVCWCSERUJYJIRFQlgkhEVCWCSERUJYJIRFQlgkhEVCWCSERUJYJIRFQlgkhEVCWCSEtWutdXrCTYRFQlgkhEVCWCSERUJYJIRFQlgkhEVCWCSERUJYJIRFQlgkhEVCWCSERUJYJIRFQli7ZsbtfZ+wSAiLhLBICIuEsEgIi4SwSAiLhLBICIuEsEgIi4SwSAiLhLBICIuEsEgIi4SwSAjrCzNzesI1hEVCWCSERUJYJIRFQlgkhEVCWCSERUJYJIRFQlgkhEVCWCSERUJYJIRFQlgkhEVCWCSERUJYJIRFQlgkhEVCWCSERUJYJIRFQlgkhEVCWCSERUJYJIRFQlgkhEVCWCSERUJYJIRFQlgkhEVCWCSERUJYJIRFQlgkhEVCWCSERUJYJIRFQlgkhEVCWCSERUJYJIRFQlgkhEVCWCSERUJYJIRFQlgkhEVCWCSERUJYJIRFQlgkhEVCWCSERUJYJIRFQlgkhEXiAzW0Co2fr9uWAAAAAElFTkSuQmCC\" alt=\"Mol\"/></td>\n",
       "      <td>CC</td>\n",
       "      <td>2</td>\n",
       "    </tr>\n",
       "    <tr>\n",
       "      <th>4</th>\n",
       "      <td>gdb_8</td>\n",
       "      <td><img src=\"data:image/png;base64,iVBORw0KGgoAAAANSUhEUgAAAMgAAADICAIAAAAiOjnJAAACZklEQVR4nO3aQWrDMBRAQan0/ldWlqV2IArpw7jM4I2DF8I89JOgudYa8Ne+rl4A/5OwSAiLhLBICIuEsEgIi4SwSAiLhLBICIuEsEgIi4SwSAiLhLBICIuEsEgIi4SwSAiLhLBICIuEsEgIi4SwSAiLhLBICIuEsEgIi4SwSAiLhLBICIuEsEgIi4SwSAiLhLBICIuEsEgIi4SwSAiLhLBICIuEsEgIi4SwSAiLhLBICIuEsEgIi4SwSAiLhLBICIuEsEgIi4SwSAiLhLBICIuEsEgIi4SwSAiLhLBICIuEsEgIi4SwSAiLhLBICIuEsEgIi4SwSAhr15zz6iXcibBICIuEsEgIi4SwSAiLhLBICIuEsEgIi4SwSAiLhLB2rasXcC/CIiEsEsIiISwSwiIhLBLC2rbWcOx9m7BICIuEsEgIi4SwSAiLhLDesRxx2CUsEsIiISwSwiIhLBLCIiEsEsLaM+fPdfj8/CRjfF+9gDuY89dfo4dbnrFjvXLOyIm/DcIiYRR+zO71jLA+dhiUOhtjGIVEhPXK+au6X4UbjMINh7ZUtWEur4mAUUhCWCSERUJYJIRFQlgkhEVCWCSERUJYJIRFQlgkhEVCWCSERUJYJIRFQlgkhEVCWCSERUJYJIRFQlgkhEVCWCSERUJYJIRFQlgkhEVCWCSERUJYJIRFQlgkhEVCWCSERUJYJIRFQlgkhEVCWCSERUJYJIRFQlgkhEVCWCSERUJYJIRFQlgkhEVCWCSERUJYJIRFQlgkhEVCWCSERUJYJIRFQlgkhEVCWCSERUJYJIRFQlgkhEVCWCQe+5YenQ1H3vUAAAAASUVORK5CYII=\" alt=\"Mol\"/></td>\n",
       "      <td>CO</td>\n",
       "      <td>2</td>\n",
       "    </tr>\n",
       "  </tbody>\n",
       "</table>"
      ],
      "text/plain": [
       "      ID                                                                                                                                                                                                                                                                                                                                                                                                                                                                                                                                                                                                                                                                                                                                                                                                                                                                                                                                                                       Molecule SMILES  l\n",
       "3  gdb_7                                                                                      <img src=\"data:image/png;base64,iVBORw0KGgoAAAANSUhEUgAAAMgAAADICAIAAAAiOjnJAAACKElEQVR4nO3awQkDMRAEwdPln/M6BRncCJmqCObRz1kz88CvvacH8J+ERUJYJIRFQlgkhEVCWCSERUJYJIRFQlgkhEVCWCSERUJYJIRFQlgkhEVCWCSERUJYJIRFQlgkhEVCWCSERUJYJIRFQlgkhEVCWCSERUJYJIRFQlgkhEVCWCSERUJYJIRFQlgkhEVCWCSERUJYJIRFQlgkhEVCWCSERUJYJIRFQlgkhEVCWCSERUJYJIRFQlgkhEVCWCSERUJYJIRFQlgkhEVCWCSERUJYJIRFQlgkhEVCWCSERUJYJIRFQlgkhEVCWCSEtWutdXrCTYRFQlgkhEVCWCSERUJYJIRFQlgkhEVCWCSERUJYJIRFQlgkhEVCWCSERUJYJIRFQli7ZsbtfZ+wSAiLhLBICIuEsEgIi4SwSAiLhLBICIuEsEgIi4SwSAiLhLBICIuEsEgIi4SwSAjrCzNzesI1hEVCWCSERUJYJIRFQlgkhEVCWCSERUJYJIRFQlgkhEVCWCSERUJYJIRFQlgkhEVCWCSERUJYJIRFQlgkhEVCWCSERUJYJIRFQlgkhEVCWCSERUJYJIRFQlgkhEVCWCSERUJYJIRFQlgkhEVCWCSERUJYJIRFQlgkhEVCWCSERUJYJIRFQlgkhEVCWCSERUJYJIRFQlgkhEVCWCSERUJYJIRFQlgkhEVCWCSERUJYJIRFQlgkhEVCWCSERUJYJIRFQlgkhEXiAzW0Co2fr9uWAAAAAElFTkSuQmCC\" alt=\"Mol\"/>     CC  2\n",
       "4  gdb_8  <img src=\"data:image/png;base64,iVBORw0KGgoAAAANSUhEUgAAAMgAAADICAIAAAAiOjnJAAACZklEQVR4nO3aQWrDMBRAQan0/ldWlqV2IArpw7jM4I2DF8I89JOgudYa8Ne+rl4A/5OwSAiLhLBICIuEsEgIi4SwSAiLhLBICIuEsEgIi4SwSAiLhLBICIuEsEgIi4SwSAiLhLBICIuEsEgIi4SwSAiLhLBICIuEsEgIi4SwSAiLhLBICIuEsEgIi4SwSAiLhLBICIuEsEgIi4SwSAiLhLBICIuEsEgIi4SwSAiLhLBICIuEsEgIi4SwSAiLhLBICIuEsEgIi4SwSAiLhLBICIuEsEgIi4SwSAiLhLBICIuEsEgIi4SwSAiLhLBICIuEsEgIi4SwSAhr15zz6iXcibBICIuEsEgIi4SwSAiLhLBICIuEsEgIi4SwSAiLhLB2rasXcC/CIiEsEsIiISwSwiIhLBLC2rbWcOx9m7BICIuEsEgIi4SwSAiLhLDesRxx2CUsEsIiISwSwiIhLBLCIiEsEsLaM+fPdfj8/CRjfF+9gDuY89dfo4dbnrFjvXLOyIm/DcIiYRR+zO71jLA+dhiUOhtjGIVEhPXK+au6X4UbjMINh7ZUtWEur4mAUUhCWCSERUJYJIRFQlgkhEVCWCSERUJYJIRFQlgkhEVCWCSERUJYJIRFQlgkhEVCWCSERUJYJIRFQlgkhEVCWCSERUJYJIRFQlgkhEVCWCSERUJYJIRFQlgkhEVCWCSERUJYJIRFQlgkhEVCWCSERUJYJIRFQlgkhEVCWCSERUJYJIRFQlgkhEVCWCSERUJYJIRFQlgkhEVCWCSERUJYJIRFQlgkhEVCWCSERUJYJIRFQlgkhEVCWCQe+5YenQ1H3vUAAAAASUVORK5CYII=\" alt=\"Mol\"/>     CO  2"
      ]
     },
     "execution_count": 7,
     "metadata": {},
     "output_type": "execute_result"
    }
   ],
   "source": [
    "# Print molecule with minimum string length \n",
    "df_qm9.loc[df_qm9['l']==min(df_qm9['l'].values)]"
   ]
  },
  {
   "cell_type": "code",
   "execution_count": 8,
   "id": "c9982906",
   "metadata": {},
   "outputs": [
    {
     "data": {
      "image/png": "[encoded data removed]",
      "text/plain": [
       "<Figure size 432x288 with 1 Axes>"
      ]
     },
     "metadata": {
      "needs_background": "light"
     },
     "output_type": "display_data"
    }
   ],
   "source": [
    "#Plot distribution of sequence length in QM9 dataset\n",
    "\n",
    "plt.hist(df_qm9['l'].values,bins=25)\n",
    "plt.show()"
   ]
  },
  {
   "cell_type": "code",
   "execution_count": 9,
   "id": "00ab0d56",
   "metadata": {},
   "outputs": [],
   "source": [
    "df_qm9['n_atoms'] = df_qm9['Molecule'].apply(lambda x:x.GetNumAtoms())"
   ]
  },
  {
   "cell_type": "code",
   "execution_count": 10,
   "id": "99131ea6",
   "metadata": {},
   "outputs": [
    {
     "data": {
      "image/png": "[encoded data removed]",
      "text/plain": [
       "<Figure size 432x288 with 1 Axes>"
      ]
     },
     "metadata": {
      "needs_background": "light"
     },
     "output_type": "display_data"
    }
   ],
   "source": [
    "#Plot distribution of the number of atoms in each molecule in QM9 dataset\n",
    "\n",
    "plt.hist(df_qm9['n_atoms'].values,bins=15)\n",
    "plt.show() "
   ]
  },
  {
   "cell_type": "code",
   "execution_count": 11,
   "id": "3a371a03",
   "metadata": {},
   "outputs": [
    {
     "name": "stdout",
     "output_type": "stream",
     "text": [
      "Unique symbols in dataset = ['3', '.', 'O', '+', 'H', '2', ')', '[', ' ', '(', ',', 'C', 'n', '4', '#', '-', 'N', 'F', '=', '5', ']', 'o', '1', 'c'], number of unique symbols = 24\n"
     ]
    }
   ],
   "source": [
    "separator = ', '\n",
    "unique_sym_list = list(set(separator.join(list(df_qm9['SMILES'].values))))\n",
    "print('Unique symbols in dataset = {}, number of unique symbols = {}'.format(unique_sym_list,len(unique_sym_list)))"
   ]
  }
 ],
 "metadata": {
  "kernelspec": {
   "display_name": "Python 3",
   "language": "python",
   "name": "python3"
  },
  "language_info": {
   "codemirror_mode": {
    "name": "ipython",
    "version": 3
   },
   "file_extension": ".py",
   "mimetype": "text/x-python",
   "name": "python",
   "nbconvert_exporter": "python",
   "pygments_lexer": "ipython3",
   "version": "3.6.12"
  }
 },
 "nbformat": 4,
 "nbformat_minor": 5
}
